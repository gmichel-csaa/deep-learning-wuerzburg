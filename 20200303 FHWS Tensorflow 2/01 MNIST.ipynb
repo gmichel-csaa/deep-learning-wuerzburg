{
 "cells": [
  {
   "cell_type": "markdown",
   "metadata": {},
   "source": [
    "# Deep Learning in Würzburg - Hands-On TensorFlow 2.0\n",
    "## Dr. Tristan Behrens\n",
    "\n",
    "Click this button if you want to enjoy Google Colab magic. Do not forget to change the runtime-type to use GPU!\n",
    "\n",
    "[![Open In Colab](https://colab.research.google.com/assets/colab-badge.svg)](https://colab.research.google.com/github/AI-Guru/deep-learning-wuerzburg/blob/master/20200303%20FHWS%20Tensorflow%202/01%20MNIST.ipynb)\n",
    "\n"
   ]
  },
  {
   "cell_type": "markdown",
   "metadata": {},
   "source": [
    "## Make sure that we have TensorFlow 2 installed."
   ]
  },
  {
   "cell_type": "code",
   "execution_count": null,
   "metadata": {},
   "outputs": [],
   "source": [
    "!pip install tensorflow==2.1.0"
   ]
  },
  {
   "cell_type": "markdown",
   "metadata": {},
   "source": [
    "## Import all necessary modules  and check TensorFlow version."
   ]
  },
  {
   "cell_type": "code",
   "execution_count": null,
   "metadata": {},
   "outputs": [],
   "source": [
    "import tensorflow as tf\n",
    "print(tf.__version__)\n",
    "\n",
    "import tensorflow_datasets as tfds\n",
    "import numpy as np\n",
    "import matplotlib.pyplot as plt\n",
    "from tensorflow.keras import models, layers"
   ]
  },
  {
   "cell_type": "markdown",
   "metadata": {},
   "source": [
    "## Load and split MNIST-dataset.\n",
    "\n",
    "- Train: For training the Neural Network.\n",
    "- Validate: To see how good the Neural Network is after each epoch.\n",
    "- Test: To see how good the Neural Network is after training.\n",
    "- Link: [MNIST database](https://www.google.com/search?client=safari&rls=en&q=mnist&ie=UTF-8&oe=UTF-8)."
   ]
  },
  {
   "cell_type": "code",
   "execution_count": null,
   "metadata": {},
   "outputs": [],
   "source": [
    "train_validation_split = tfds.Split.TRAIN.subsplit([8, 2])\n",
    "\n",
    "(mnist_train, mnist_validate, mnist_test), info = tfds.load(\n",
    "    name=\"mnist\", \n",
    "    split=[\"train[:80%]\", \"train[80%:]\", \"test\"],\n",
    "    with_info=True,\n",
    "    as_supervised=True\n",
    ")\n",
    "\n",
    "print(\"Train:   \", len(list(mnist_train)))\n",
    "print(\"Validate:\", len(list(mnist_validate)))\n",
    "print(\"Test:    \", len(list(mnist_test)))"
   ]
  },
  {
   "cell_type": "markdown",
   "metadata": {},
   "source": [
    "## Look at your \\*beep\\*-ing data!\n",
    "\n",
    "This is supervised learning."
   ]
  },
  {
   "cell_type": "code",
   "execution_count": null,
   "metadata": {},
   "outputs": [],
   "source": [
    "for mnist_example in mnist_train.take(4):\n",
    "    image, label = mnist_example\n",
    "\n",
    "    plt.imshow(image.numpy()[:, :, 0], cmap=plt.get_cmap(\"gray\"))\n",
    "    plt.title(\"Label: {}\".format(label.numpy()))\n",
    "    plt.show()\n",
    "    plt.close()"
   ]
  },
  {
   "cell_type": "markdown",
   "metadata": {},
   "source": [
    "## Preparing the datasets with tf.data.\n",
    "\n",
    "- Link: [tf.data: Build TensorFlow input pipelines](https://www.tensorflow.org/guide/data)"
   ]
  },
  {
   "cell_type": "code",
   "execution_count": null,
   "metadata": {},
   "outputs": [],
   "source": [
    "def encode(image, label):\n",
    "    image_encoded = tf.image.convert_image_dtype(image, dtype=tf.float32)\n",
    "    label_encoded = tf.one_hot(label, depth=10)\n",
    "    return image_encoded, label_encoded\n",
    "\n",
    "mnist_train = mnist_train.map(lambda image, label: encode(image, label))\n",
    "mnist_validate = mnist_validate.map(lambda image, label: encode(image, label))\n",
    "mnist_test = mnist_test.map(lambda image, label: encode(image, label))"
   ]
  },
  {
   "cell_type": "markdown",
   "metadata": {},
   "source": [
    "## Create a Deep Neural Network to solve our classification problem - Multi-Layer Perceptron."
   ]
  },
  {
   "cell_type": "code",
   "execution_count": null,
   "metadata": {},
   "outputs": [],
   "source": [
    "model = models.Sequential()\n",
    "model.add(layers.Flatten(input_shape=(28, 28, 1)))\n",
    "model.add(layers.Dense(512, activation=\"relu\"))\n",
    "model.add(layers.Dense(10, activation=\"softmax\"))\n",
    "model.summary()"
   ]
  },
  {
   "cell_type": "markdown",
   "metadata": {},
   "source": [
    "## Attach optimizer, loss, and metrics."
   ]
  },
  {
   "cell_type": "code",
   "execution_count": null,
   "metadata": {},
   "outputs": [],
   "source": [
    "model.compile(\n",
    "    optimizer=\"rmsprop\",\n",
    "    loss=\"categorical_crossentropy\",\n",
    "    metrics=[\"accuracy\"]\n",
    ")"
   ]
  },
  {
   "cell_type": "markdown",
   "metadata": {},
   "source": [
    "## How good is our ANN before training?"
   ]
  },
  {
   "cell_type": "code",
   "execution_count": null,
   "metadata": {},
   "outputs": [],
   "source": [
    "mnist_example = list(mnist_test.take(1).as_numpy_iterator())[0]\n",
    "\n",
    "image, label = mnist_example\n",
    "prediction = model.predict(np.array([image]))\n",
    "plt.plot(prediction[0])\n",
    "plt.plot(label)\n",
    "plt.show()\n",
    "plt.close()\n",
    "\n",
    "loss, acc = model.evaluate(mnist_test.batch(32), verbose=0)\n",
    "print(\"Loss: {} Accuracy: {}\".format(loss, acc))"
   ]
  },
  {
   "cell_type": "markdown",
   "metadata": {},
   "source": [
    "## TODO Write."
   ]
  },
  {
   "cell_type": "code",
   "execution_count": null,
   "metadata": {},
   "outputs": [],
   "source": [
    "history = model.fit(\n",
    "    mnist_train.batch(128),\n",
    "    epochs=5,\n",
    "    validation_data=mnist_validate.batch(128)\n",
    ")"
   ]
  },
  {
   "cell_type": "markdown",
   "metadata": {},
   "source": [
    "## TODO Write."
   ]
  },
  {
   "cell_type": "code",
   "execution_count": null,
   "metadata": {},
   "outputs": [],
   "source": [
    "plt.plot(history.history[\"loss\"], label=\"loss\")\n",
    "plt.plot(history.history[\"val_loss\"], label=\"val_loss\")\n",
    "plt.legend()\n",
    "plt.show()\n",
    "plt.close()\n",
    "\n",
    "plt.plot(history.history[\"accuracy\"], label=\"accuracy\")\n",
    "plt.plot(history.history[\"val_accuracy\"], label=\"val_accuracy\")\n",
    "plt.legend()\n",
    "plt.show()\n",
    "plt.close()"
   ]
  },
  {
   "cell_type": "markdown",
   "metadata": {},
   "source": [
    "## How good is our ANN after training?"
   ]
  },
  {
   "cell_type": "code",
   "execution_count": null,
   "metadata": {},
   "outputs": [],
   "source": [
    "mnist_example = list(mnist_test.take(1).as_numpy_iterator())[0]\n",
    "\n",
    "image, label = mnist_example\n",
    "prediction = model.predict(np.array([image]))\n",
    "plt.plot(prediction[0])\n",
    "plt.plot(label)\n",
    "plt.show()\n",
    "plt.close()\n",
    "\n",
    "loss, acc = model.evaluate(mnist_test.batch(32), verbose=0)\n",
    "print(\"Loss: {} Accuracy: {}\".format(loss, acc))"
   ]
  },
  {
   "cell_type": "markdown",
   "metadata": {},
   "source": [
    "## Save the model."
   ]
  },
  {
   "cell_type": "code",
   "execution_count": null,
   "metadata": {},
   "outputs": [],
   "source": [
    "model.save(\"model.h5\")"
   ]
  }
 ],
 "metadata": {
  "kernelspec": {
   "display_name": "Python 3",
   "language": "python",
   "name": "python3"
  },
  "language_info": {
   "codemirror_mode": {
    "name": "ipython",
    "version": 3
   },
   "file_extension": ".py",
   "mimetype": "text/x-python",
   "name": "python",
   "nbconvert_exporter": "python",
   "pygments_lexer": "ipython3",
   "version": "3.6.5"
  }
 },
 "nbformat": 4,
 "nbformat_minor": 2
}
