{
 "cells": [
  {
   "cell_type": "markdown",
   "metadata": {},
   "source": [
    "# Deep Learning in Würzburg - Hands-On TensorFlow 2.0\n",
    "\n",
    "[![Open In Colab](https://colab.research.google.com/assets/colab-badge.svg)](https://colab.research.google.com/github/AI-Guru/deep-learning-wuerzburg/blob/master/20200303%20FHWS%20Tensorflow%202/01%20MNIST.ipynb)\n",
    "\n"
   ]
  },
  {
   "cell_type": "code",
   "execution_count": 1,
   "metadata": {},
   "outputs": [
    {
     "name": "stdout",
     "output_type": "stream",
     "text": [
      "Requirement already satisfied: tensorflow==2.1.0 in /Users/tristanbehrens/Development/python-venvs/tf2-p36/lib/python3.6/site-packages (2.1.0)\n",
      "Requirement already satisfied: tensorboard<2.2.0,>=2.1.0 in /Users/tristanbehrens/Development/python-venvs/tf2-p36/lib/python3.6/site-packages (from tensorflow==2.1.0) (2.1.0)\n",
      "Requirement already satisfied: wrapt>=1.11.1 in /Users/tristanbehrens/Development/python-venvs/tf2-p36/lib/python3.6/site-packages (from tensorflow==2.1.0) (1.11.1)\n",
      "Requirement already satisfied: astor>=0.6.0 in /Users/tristanbehrens/Development/python-venvs/tf2-p36/lib/python3.6/site-packages (from tensorflow==2.1.0) (0.7.1)\n",
      "Requirement already satisfied: grpcio>=1.8.6 in /Users/tristanbehrens/Development/python-venvs/tf2-p36/lib/python3.6/site-packages (from tensorflow==2.1.0) (1.18.0)\n",
      "Requirement already satisfied: wheel>=0.26; python_version >= \"3\" in /Users/tristanbehrens/Development/python-venvs/tf2-p36/lib/python3.6/site-packages (from tensorflow==2.1.0) (0.33.0)\n",
      "Requirement already satisfied: numpy<2.0,>=1.16.0 in /Users/tristanbehrens/Development/python-venvs/tf2-p36/lib/python3.6/site-packages (from tensorflow==2.1.0) (1.16.1)\n",
      "Requirement already satisfied: termcolor>=1.1.0 in /Users/tristanbehrens/Development/python-venvs/tf2-p36/lib/python3.6/site-packages (from tensorflow==2.1.0) (1.1.0)\n",
      "Requirement already satisfied: scipy==1.4.1; python_version >= \"3\" in /Users/tristanbehrens/Development/python-venvs/tf2-p36/lib/python3.6/site-packages (from tensorflow==2.1.0) (1.4.1)\n",
      "Requirement already satisfied: keras-applications>=1.0.8 in /Users/tristanbehrens/Development/python-venvs/tf2-p36/lib/python3.6/site-packages (from tensorflow==2.1.0) (1.0.8)\n",
      "Requirement already satisfied: opt-einsum>=2.3.2 in /Users/tristanbehrens/Development/python-venvs/tf2-p36/lib/python3.6/site-packages (from tensorflow==2.1.0) (3.1.0)\n",
      "Requirement already satisfied: protobuf>=3.8.0 in /Users/tristanbehrens/Development/python-venvs/tf2-p36/lib/python3.6/site-packages (from tensorflow==2.1.0) (3.11.2)\n",
      "Requirement already satisfied: gast==0.2.2 in /Users/tristanbehrens/Development/python-venvs/tf2-p36/lib/python3.6/site-packages (from tensorflow==2.1.0) (0.2.2)\n",
      "Requirement already satisfied: absl-py>=0.7.0 in /Users/tristanbehrens/Development/python-venvs/tf2-p36/lib/python3.6/site-packages (from tensorflow==2.1.0) (0.7.0)\n",
      "Requirement already satisfied: tensorflow-estimator<2.2.0,>=2.1.0rc0 in /Users/tristanbehrens/Development/python-venvs/tf2-p36/lib/python3.6/site-packages (from tensorflow==2.1.0) (2.1.0)\n",
      "Requirement already satisfied: google-pasta>=0.1.6 in /Users/tristanbehrens/Development/python-venvs/tf2-p36/lib/python3.6/site-packages (from tensorflow==2.1.0) (0.1.7)\n",
      "Requirement already satisfied: six>=1.12.0 in /Users/tristanbehrens/Development/python-venvs/tf2-p36/lib/python3.6/site-packages (from tensorflow==2.1.0) (1.12.0)\n",
      "Requirement already satisfied: keras-preprocessing>=1.1.0 in /Users/tristanbehrens/Development/python-venvs/tf2-p36/lib/python3.6/site-packages (from tensorflow==2.1.0) (1.1.0)\n",
      "Requirement already satisfied: google-auth<2,>=1.6.3 in /Users/tristanbehrens/Development/python-venvs/tf2-p36/lib/python3.6/site-packages (from tensorboard<2.2.0,>=2.1.0->tensorflow==2.1.0) (1.11.2)\n",
      "Requirement already satisfied: werkzeug>=0.11.15 in /Users/tristanbehrens/Development/python-venvs/tf2-p36/lib/python3.6/site-packages (from tensorboard<2.2.0,>=2.1.0->tensorflow==2.1.0) (0.14.1)\n",
      "Requirement already satisfied: requests<3,>=2.21.0 in /Users/tristanbehrens/Development/python-venvs/tf2-p36/lib/python3.6/site-packages (from tensorboard<2.2.0,>=2.1.0->tensorflow==2.1.0) (2.21.0)\n",
      "Requirement already satisfied: setuptools>=41.0.0 in /Users/tristanbehrens/Development/python-venvs/tf2-p36/lib/python3.6/site-packages (from tensorboard<2.2.0,>=2.1.0->tensorflow==2.1.0) (41.6.0)\n",
      "Requirement already satisfied: google-auth-oauthlib<0.5,>=0.4.1 in /Users/tristanbehrens/Development/python-venvs/tf2-p36/lib/python3.6/site-packages (from tensorboard<2.2.0,>=2.1.0->tensorflow==2.1.0) (0.4.1)\n",
      "Requirement already satisfied: markdown>=2.6.8 in /Users/tristanbehrens/Development/python-venvs/tf2-p36/lib/python3.6/site-packages (from tensorboard<2.2.0,>=2.1.0->tensorflow==2.1.0) (3.0.1)\n",
      "Requirement already satisfied: h5py in /Users/tristanbehrens/Development/python-venvs/tf2-p36/lib/python3.6/site-packages (from keras-applications>=1.0.8->tensorflow==2.1.0) (2.9.0)\n",
      "Requirement already satisfied: cachetools<5.0,>=2.0.0 in /Users/tristanbehrens/Development/python-venvs/tf2-p36/lib/python3.6/site-packages (from google-auth<2,>=1.6.3->tensorboard<2.2.0,>=2.1.0->tensorflow==2.1.0) (3.1.0)\n",
      "Requirement already satisfied: rsa<4.1,>=3.1.4 in /Users/tristanbehrens/Development/python-venvs/tf2-p36/lib/python3.6/site-packages (from google-auth<2,>=1.6.3->tensorboard<2.2.0,>=2.1.0->tensorflow==2.1.0) (4.0)\n",
      "Requirement already satisfied: pyasn1-modules>=0.2.1 in /Users/tristanbehrens/Development/python-venvs/tf2-p36/lib/python3.6/site-packages (from google-auth<2,>=1.6.3->tensorboard<2.2.0,>=2.1.0->tensorflow==2.1.0) (0.2.5)\n",
      "Requirement already satisfied: idna<2.9,>=2.5 in /Users/tristanbehrens/Development/python-venvs/tf2-p36/lib/python3.6/site-packages (from requests<3,>=2.21.0->tensorboard<2.2.0,>=2.1.0->tensorflow==2.1.0) (2.8)\n",
      "Requirement already satisfied: chardet<3.1.0,>=3.0.2 in /Users/tristanbehrens/Development/python-venvs/tf2-p36/lib/python3.6/site-packages (from requests<3,>=2.21.0->tensorboard<2.2.0,>=2.1.0->tensorflow==2.1.0) (3.0.4)\n",
      "Requirement already satisfied: urllib3<1.25,>=1.21.1 in /Users/tristanbehrens/Development/python-venvs/tf2-p36/lib/python3.6/site-packages (from requests<3,>=2.21.0->tensorboard<2.2.0,>=2.1.0->tensorflow==2.1.0) (1.24.1)\n",
      "Requirement already satisfied: certifi>=2017.4.17 in /Users/tristanbehrens/Development/python-venvs/tf2-p36/lib/python3.6/site-packages (from requests<3,>=2.21.0->tensorboard<2.2.0,>=2.1.0->tensorflow==2.1.0) (2018.11.29)\n",
      "Requirement already satisfied: requests-oauthlib>=0.7.0 in /Users/tristanbehrens/Development/python-venvs/tf2-p36/lib/python3.6/site-packages (from google-auth-oauthlib<0.5,>=0.4.1->tensorboard<2.2.0,>=2.1.0->tensorflow==2.1.0) (1.3.0)\n",
      "Requirement already satisfied: pyasn1>=0.1.3 in /Users/tristanbehrens/Development/python-venvs/tf2-p36/lib/python3.6/site-packages (from rsa<4.1,>=3.1.4->google-auth<2,>=1.6.3->tensorboard<2.2.0,>=2.1.0->tensorflow==2.1.0) (0.4.5)\n",
      "Requirement already satisfied: oauthlib>=3.0.0 in /Users/tristanbehrens/Development/python-venvs/tf2-p36/lib/python3.6/site-packages (from requests-oauthlib>=0.7.0->google-auth-oauthlib<0.5,>=0.4.1->tensorboard<2.2.0,>=2.1.0->tensorflow==2.1.0) (3.1.0)\n"
     ]
    }
   ],
   "source": [
    "!pip install tensorflow==2.1.0"
   ]
  },
  {
   "cell_type": "markdown",
   "metadata": {},
   "source": [
    "## TODO Write"
   ]
  },
  {
   "cell_type": "code",
   "execution_count": 2,
   "metadata": {},
   "outputs": [],
   "source": [
    "import tensorflow as tf\n",
    "import tensorflow_datasets as tfds\n",
    "import numpy as np\n",
    "import matplotlib.pyplot as plt\n",
    "from tensorflow.keras import models, layers"
   ]
  },
  {
   "cell_type": "markdown",
   "metadata": {},
   "source": [
    "## Loading data and split.\n",
    "\n",
    "- Train: For training the Neural Network.\n",
    "- Validate: To see how good the Neural Network is after each epoch.\n",
    "- Test: To see how good the Neural Network is after training."
   ]
  },
  {
   "cell_type": "code",
   "execution_count": 3,
   "metadata": {},
   "outputs": [
    {
     "name": "stdout",
     "output_type": "stream",
     "text": [
      "48000\n",
      "12000\n",
      "10000\n"
     ]
    }
   ],
   "source": [
    "train_validation_split = tfds.Split.TRAIN.subsplit([8, 2])\n",
    "\n",
    "(mnist_train, mnist_validate, mnist_test), info = tfds.load(\n",
    "    name=\"mnist\", \n",
    "    split=[\"train[:80%]\", \"train[80%:]\", \"test\"],\n",
    "    with_info=True,\n",
    "    as_supervised=True\n",
    ")\n",
    "\n",
    "print(len(list(mnist_train)))\n",
    "print(len(list(mnist_validate)))\n",
    "print(len(list(mnist_test)))"
   ]
  },
  {
   "cell_type": "code",
   "execution_count": 4,
   "metadata": {},
   "outputs": [
    {
     "data": {
      "image/png": "[encoded data removed]",
      "text/plain": [
       "<Figure size 432x288 with 1 Axes>"
      ]
     },
     "metadata": {},
     "output_type": "display_data"
    },
    {
     "data": {
      "image/png": "[encoded data removed]",
      "text/plain": [
       "<Figure size 432x288 with 1 Axes>"
      ]
     },
     "metadata": {},
     "output_type": "display_data"
    },
    {
     "data": {
      "image/png": "[encoded data removed]",
      "text/plain": [
       "<Figure size 432x288 with 1 Axes>"
      ]
     },
     "metadata": {},
     "output_type": "display_data"
    },
    {
     "data": {
      "image/png": "[encoded data removed]",
      "text/plain": [
       "<Figure size 432x288 with 1 Axes>"
      ]
     },
     "metadata": {},
     "output_type": "display_data"
    }
   ],
   "source": [
    "for mnist_example in mnist_train.take(4):\n",
    "    image, label = mnist_example\n",
    "\n",
    "    plt.imshow(image.numpy()[:, :, 0], cmap=plt.get_cmap(\"gray\"))\n",
    "    plt.title(\"Label: {}\".format(label.numpy()))\n",
    "    plt.show()\n",
    "    plt.close()"
   ]
  },
  {
   "cell_type": "markdown",
   "metadata": {},
   "source": [
    "## Preparing the datasets with tf.data.\n",
    "\n",
    "Link: [tf.data: Build TensorFlow input pipelines](https://www.tensorflow.org/guide/data)"
   ]
  },
  {
   "cell_type": "code",
   "execution_count": 5,
   "metadata": {},
   "outputs": [],
   "source": [
    "def encode(image, label):\n",
    "    image_encoded = tf.image.convert_image_dtype(image, dtype=tf.float32)\n",
    "    label_encoded = tf.one_hot(label, depth=10)\n",
    "    return image_encoded, label_encoded\n",
    "\n",
    "mnist_train = mnist_train.map(lambda image, label: encode(image, label))\n",
    "mnist_validate = mnist_validate.map(lambda image, label: encode(image, label))\n",
    "mnist_test = mnist_test.map(lambda image, label: encode(image, label))"
   ]
  },
  {
   "cell_type": "markdown",
   "metadata": {},
   "source": [
    "## TODO Write."
   ]
  },
  {
   "cell_type": "code",
   "execution_count": 6,
   "metadata": {},
   "outputs": [
    {
     "name": "stdout",
     "output_type": "stream",
     "text": [
      "Model: \"sequential\"\n",
      "_________________________________________________________________\n",
      "Layer (type)                 Output Shape              Param #   \n",
      "=================================================================\n",
      "flatten (Flatten)            (None, 784)               0         \n",
      "_________________________________________________________________\n",
      "dense (Dense)                (None, 512)               401920    \n",
      "_________________________________________________________________\n",
      "dense_1 (Dense)              (None, 10)                5130      \n",
      "=================================================================\n",
      "Total params: 407,050\n",
      "Trainable params: 407,050\n",
      "Non-trainable params: 0\n",
      "_________________________________________________________________\n"
     ]
    }
   ],
   "source": [
    "model = models.Sequential()\n",
    "model.add(layers.Flatten(input_shape=(28, 28, 1)))\n",
    "model.add(layers.Dense(512, activation=\"relu\"))\n",
    "model.add(layers.Dense(10, activation=\"softmax\"))\n",
    "model.summary()"
   ]
  },
  {
   "cell_type": "markdown",
   "metadata": {},
   "source": [
    "## TODO Write."
   ]
  },
  {
   "cell_type": "code",
   "execution_count": 7,
   "metadata": {},
   "outputs": [],
   "source": [
    "model.compile(\n",
    "    optimizer=\"rmsprop\",\n",
    "    loss=\"categorical_crossentropy\",\n",
    "    metrics=[\"accuracy\"]\n",
    ")"
   ]
  },
  {
   "cell_type": "markdown",
   "metadata": {},
   "source": [
    "## TODO Write."
   ]
  },
  {
   "cell_type": "code",
   "execution_count": 8,
   "metadata": {},
   "outputs": [
    {
     "data": {
      "text/plain": [
       "[<matplotlib.lines.Line2D at 0x13c587ef0>]"
      ]
     },
     "execution_count": 8,
     "metadata": {},
     "output_type": "execute_result"
    },
    {
     "data": {
      "image/png": "[encoded data removed]",
      "text/plain": [
       "<Figure size 432x288 with 1 Axes>"
      ]
     },
     "metadata": {},
     "output_type": "display_data"
    }
   ],
   "source": [
    "mnist_example = list(mnist_train.take(1).as_numpy_iterator())[0]\n",
    "\n",
    "image, label = mnist_example\n",
    "prediction = model.predict(np.array([image]))\n",
    "plt.plot(prediction[0])\n",
    "plt.plot(label)"
   ]
  },
  {
   "cell_type": "markdown",
   "metadata": {},
   "source": [
    "## TODO Write."
   ]
  },
  {
   "cell_type": "code",
   "execution_count": 9,
   "metadata": {},
   "outputs": [
    {
     "name": "stdout",
     "output_type": "stream",
     "text": [
      "Epoch 1/5\n",
      "375/375 [==============================] - 5s 14ms/step - loss: 0.2823 - accuracy: 0.9179 - val_loss: 0.1564 - val_accuracy: 0.9561\n",
      "Epoch 2/5\n",
      "375/375 [==============================] - 5s 13ms/step - loss: 0.1170 - accuracy: 0.9660 - val_loss: 0.1148 - val_accuracy: 0.9672\n",
      "Epoch 3/5\n",
      "375/375 [==============================] - 6s 17ms/step - loss: 0.0769 - accuracy: 0.9779 - val_loss: 0.1004 - val_accuracy: 0.9713\n",
      "Epoch 4/5\n",
      "375/375 [==============================] - 6s 15ms/step - loss: 0.0547 - accuracy: 0.9850 - val_loss: 0.0949 - val_accuracy: 0.9736\n",
      "Epoch 5/5\n",
      "375/375 [==============================] - 5s 13ms/step - loss: 0.0404 - accuracy: 0.9893 - val_loss: 0.0929 - val_accuracy: 0.9747\n"
     ]
    }
   ],
   "source": [
    "history = model.fit(\n",
    "    mnist_train.batch(128),\n",
    "    epochs=5,\n",
    "    validation_data=mnist_validate.batch(128)\n",
    ")"
   ]
  },
  {
   "cell_type": "markdown",
   "metadata": {},
   "source": [
    "## TODO Write."
   ]
  },
  {
   "cell_type": "code",
   "execution_count": 10,
   "metadata": {},
   "outputs": [
    {
     "data": {
      "image/png": "[encoded data removed]",
      "text/plain": [
       "<Figure size 432x288 with 1 Axes>"
      ]
     },
     "metadata": {},
     "output_type": "display_data"
    },
    {
     "data": {
      "image/png": "[encoded data removed]",
      "text/plain": [
       "<Figure size 432x288 with 1 Axes>"
      ]
     },
     "metadata": {},
     "output_type": "display_data"
    }
   ],
   "source": [
    "plt.plot(history.history[\"loss\"], label=\"loss\")\n",
    "plt.plot(history.history[\"val_loss\"], label=\"val_loss\")\n",
    "plt.legend()\n",
    "plt.show()\n",
    "plt.close()\n",
    "\n",
    "plt.plot(history.history[\"accuracy\"], label=\"accuracy\")\n",
    "plt.plot(history.history[\"val_accuracy\"], label=\"val_accuracy\")\n",
    "plt.legend()\n",
    "plt.show()\n",
    "plt.close()"
   ]
  },
  {
   "cell_type": "markdown",
   "metadata": {},
   "source": [
    "## TODO Write."
   ]
  },
  {
   "cell_type": "code",
   "execution_count": 11,
   "metadata": {},
   "outputs": [
    {
     "data": {
      "text/plain": [
       "[<matplotlib.lines.Line2D at 0x13b58eac8>]"
      ]
     },
     "execution_count": 11,
     "metadata": {},
     "output_type": "execute_result"
    },
    {
     "data": {
      "image/png": "[encoded data removed]",
      "text/plain": [
       "<Figure size 432x288 with 1 Axes>"
      ]
     },
     "metadata": {},
     "output_type": "display_data"
    }
   ],
   "source": [
    "mnist_example = list(mnist_train.take(1).as_numpy_iterator())[0]\n",
    "\n",
    "image, label = mnist_example\n",
    "prediction = model.predict(np.array([image]))\n",
    "plt.plot(prediction[0])\n",
    "plt.plot(label)"
   ]
  },
  {
   "cell_type": "markdown",
   "metadata": {},
   "source": [
    "## TODO Write."
   ]
  },
  {
   "cell_type": "code",
   "execution_count": 12,
   "metadata": {},
   "outputs": [
    {
     "name": "stdout",
     "output_type": "stream",
     "text": [
      "    313/Unknown - 1s 4ms/step - loss: 0.0831 - accuracy: 0.9754"
     ]
    },
    {
     "data": {
      "text/plain": [
       "(0.08310637555918998, 0.9754)"
      ]
     },
     "execution_count": 12,
     "metadata": {},
     "output_type": "execute_result"
    }
   ],
   "source": [
    "loss, acc = model.evaluate(mnist_test.batch(32))\n",
    "loss, acc"
   ]
  },
  {
   "cell_type": "markdown",
   "metadata": {},
   "source": [
    "## TODO Write."
   ]
  },
  {
   "cell_type": "code",
   "execution_count": 13,
   "metadata": {},
   "outputs": [],
   "source": [
    "model.save(\"model.h5\")"
   ]
  },
  {
   "cell_type": "code",
   "execution_count": null,
   "metadata": {},
   "outputs": [],
   "source": []
  }
 ],
 "metadata": {
  "kernelspec": {
   "display_name": "Python 3",
   "language": "python",
   "name": "python3"
  },
  "language_info": {
   "codemirror_mode": {
    "name": "ipython",
    "version": 3
   },
   "file_extension": ".py",
   "mimetype": "text/x-python",
   "name": "python",
   "nbconvert_exporter": "python",
   "pygments_lexer": "ipython3",
   "version": "3.6.5"
  }
 },
 "nbformat": 4,
 "nbformat_minor": 2
}
